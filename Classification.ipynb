{
 "cells": [
  {
   "cell_type": "code",
   "execution_count": null,
   "metadata": {},
   "outputs": [],
   "source": [
    "import os\n",
    "import numpy as np\n",
    "import time\n",
    "import scipy\n",
    "import scv\n",
    "from sklearn.svm import SVC"
   ]
  },
  {
   "cell_type": "code",
   "execution_count": null,
   "metadata": {},
   "outputs": [],
   "source": [
    "def load_train_data(data_dir):\n",
    "    \"\"\"\n",
    "    Load training dataset from given data directory\n",
    "    \n",
    "    :param data_dir: data directory to load the training data\n",
    "    :type data_dir: string\n",
    "    :return: train images and train labels\n",
    "    :rtype: Tuple of lists\n",
    "    List of numpy.ndarray. shape: [num_features, dim_feature] \n",
    "    List of numpy.ndarray. shape: [num_features, 1]\n",
    "    \"\"\"\n",
    "    \n",
    "    data = np.loadtxt(data_dir, delimeter=',')\n",
    "    \n",
    "    train_des = data[:, :-1]\n",
    "    train_label = data[:, -1]\n",
    "    \n",
    "    return train_des, train_label\n",
    "\n",
    "def train_classifier(features, labels, svm_params):\n",
    "    \"\"\"\n",
    "    Train the SVM classifier\n",
    "\n",
    "    :param features: Features to train\n",
    "    :type features: numpy.ndarray. shape: [num_features, dim_feature]\n",
    "    :param labels: Labels to train\n",
    "    :type labels: numpy.ndarray. shape: [num_features, 1]\n",
    "    :param svm_params: SVM parameters\n",
    "    :type svm_params: dict\n",
    "    ['C'](float): Regularization parameter\n",
    "    ['kernel'](str): Kernel specification\n",
    "    :return: Trained classifier\n",
    "    :rtype: sklearn.svm.SVC\n",
    "    \"\"\"\n",
    "\n",
    "    svm = SVC(kernel=svm_params['kernel'], C=svm_params['C'], random_state=0)\n",
    "    svm.fit(features, labels)\n",
    "\n",
    "    return svm\n",
    "\n",
    "# {'C': 1, 'kernel': 'rbf'} for svm_param maight be a good starting point I guess :)\n",
    "# data_dir should be train_data/train_set.csv\n",
    "def Trainer(svm_param, data_dir):\n",
    "    \"\"\"\n",
    "    Train SVM models to classify new feature\n",
    "      \n",
    "    :param svm_params: SVM parameters\n",
    "    :type svm_params: dict\n",
    "    ['C'](float): Regularization parameter\n",
    "    ['kernel'](str): Kernel specification\n",
    "    :return: Trained classifier\n",
    "    :rtype: sklearn.svm.SVC\n",
    "    \"\"\"\n",
    "    \n",
    "    # model will be saved in this directory but not implemented yet.\n",
    "    if not os.path.isdir(\"model\"):\n",
    "        os.mkdir(\"model\")\n",
    "    \n",
    "    start_time = time.time()\n",
    "    train_des, train_label = load_train_data(data_dir)\n",
    "\n",
    "    print('Train the classifiers...')    \n",
    "    model = train_classifier(train_des, train_label, svm_params)\n",
    "    \n",
    "    train_accuracy = model.score(train_features, binary_labels)    \n",
    "    print('Train accuracy:  {:.4f}'.format(train_accuracy))\n",
    "\n",
    "    return model\n",
    "\n",
    "def Predict(feat, model, cent):\n",
    "    \"\"\"\n",
    "    Predict the label based on the trained SVM classifier\n",
    "    \n",
    "    :param feat: Unknown feature to classify\n",
    "    :type feat: List. shape: [num_feature]\n",
    "    :param model: Trained model\n",
    "    :type model: sklearn.svm.SVC\n",
    "    :param cent: Centroids\n",
    "    :type cent: numpy.ndarray. shape: [num_centorids, dim_feature]\n",
    "    :return: Correspoding Centroids with label\n",
    "    :rtype: TBD\n",
    "    \"\"\"\n",
    "    \n",
    "    idx = model.predict([feat])[0]\n",
    "    \n",
    "    predicted_feature = cent[idx]\n",
    "    \n",
    "    return predicted_feature"
   ]
  },
  {
   "cell_type": "code",
   "execution_count": 5,
   "metadata": {},
   "outputs": [
    {
     "name": "stdout",
     "output_type": "stream",
     "text": [
      "[[1 2 3 4]\n",
      " [6 7 8 9]]\n",
      "[ 5 10]\n"
     ]
    }
   ],
   "source": [
    "import numpy as np\n",
    "\n",
    "a = np.array([[1, 2, 3, 4, 5], [6, 7, 8, 9, 10]])\n",
    "\n",
    "print(a[:, :-1])\n",
    "print(a[:, -1])"
   ]
  },
  {
   "cell_type": "code",
   "execution_count": 8,
   "metadata": {},
   "outputs": [
    {
     "data": {
      "text/plain": [
       "array([ True, False, False,  True, False, False])"
      ]
     },
     "execution_count": 8,
     "metadata": {},
     "output_type": "execute_result"
    }
   ],
   "source": [
    "a = np.array([1, 2, 3, 1, 5, 2])\n",
    "a == 1"
   ]
  },
  {
   "cell_type": "code",
   "execution_count": 10,
   "metadata": {},
   "outputs": [
    {
     "data": {
      "text/plain": [
       "SVC(C=1.0, break_ties=False, cache_size=200, class_weight=None, coef0=0.0,\n",
       "    decision_function_shape='ovr', degree=3, gamma='scale', kernel='rbf',\n",
       "    max_iter=-1, probability=False, random_state=None, shrinking=True,\n",
       "    tol=0.001, verbose=False)"
      ]
     },
     "execution_count": 10,
     "metadata": {},
     "output_type": "execute_result"
    }
   ],
   "source": [
    "from sklearn import svm\n",
    "X = [[0, 0, 0, 0, 1], [1, 1, 1, 1, 1], [1, -2, 3, -1, -6]]\n",
    "y = [0, 1, 2]\n",
    "clf = svm.SVC()\n",
    "clf.fit(X, y)"
   ]
  },
  {
   "cell_type": "code",
   "execution_count": 14,
   "metadata": {},
   "outputs": [
    {
     "name": "stdout",
     "output_type": "stream",
     "text": [
      "[1]\n",
      "[0]\n",
      "[2]\n",
      "[1]\n",
      "[1]\n"
     ]
    }
   ],
   "source": [
    "print(clf.predict([[1, 1, 1, 1, 1]]))\n",
    "print(clf.predict([[0, 0, 0, 0, 0]]))\n",
    "print(clf.predict([[1, -2, 5, -2, -7]]))\n",
    "print(clf.predict([[1, 1, 1, 1, 1]]))\n",
    "print(clf.predict([[1, 1, 1, 1, 1]]))"
   ]
  }
 ],
 "metadata": {
  "kernelspec": {
   "display_name": "Python 3",
   "language": "python",
   "name": "python3"
  },
  "language_info": {
   "codemirror_mode": {
    "name": "ipython",
    "version": 3
   },
   "file_extension": ".py",
   "mimetype": "text/x-python",
   "name": "python",
   "nbconvert_exporter": "python",
   "pygments_lexer": "ipython3",
   "version": "3.8.1"
  }
 },
 "nbformat": 4,
 "nbformat_minor": 4
}
